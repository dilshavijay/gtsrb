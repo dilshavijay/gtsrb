{
  "nbformat": 4,
  "nbformat_minor": 0,
  "metadata": {
    "colab": {
      "name": "gtsrb.ipynb",
      "provenance": []
    },
    "kernelspec": {
      "name": "python3",
      "display_name": "Python 3"
    }
  },
  "cells": [
    {
      "cell_type": "code",
      "metadata": {
        "id": "dr4wpoHQtRTV",
        "colab_type": "code",
        "colab": {}
      },
      "source": [
        "import numpy as np \n",
        "import pandas as pd \n",
        "import matplotlib.pyplot as plt\n",
        "import tensorflow as tf\n",
        "import cv2\n",
        "from PIL import Image\n",
        "import os"
      ],
      "execution_count": 0,
      "outputs": []
    },
    {
      "cell_type": "code",
      "metadata": {
        "id": "MsG3GwxltTJl",
        "colab_type": "code",
        "colab": {}
      },
      "source": [
        "os.environ['KAGGLE_USERNAME']=\"dilshavijay\"\n",
        "os.environ['KAGGLE_KEY']=\"8d2bb5120682473e6f866d1b627623d0\""
      ],
      "execution_count": 0,
      "outputs": []
    },
    {
      "cell_type": "code",
      "metadata": {
        "id": "u7nhI2KotXZn",
        "colab_type": "code",
        "outputId": "8098385e-d42c-4252-8663-dead12a97947",
        "colab": {
          "base_uri": "https://localhost:8080/",
          "height": 67
        }
      },
      "source": [
        "!kaggle datasets download -d meowmeowmeowmeowmeow/gtsrb-german-traffic-sign"
      ],
      "execution_count": 0,
      "outputs": [
        {
          "output_type": "stream",
          "text": [
            "Downloading gtsrb-german-traffic-sign.zip to /content\n",
            "100% 611M/612M [00:06<00:00, 125MB/s]\n",
            "100% 612M/612M [00:06<00:00, 94.3MB/s]\n"
          ],
          "name": "stdout"
        }
      ]
    },
    {
      "cell_type": "code",
      "metadata": {
        "id": "uSHarrWVtfQ_",
        "colab_type": "code",
        "outputId": "05633a1d-ea84-4504-c438-e54faee65705",
        "colab": {
          "base_uri": "https://localhost:8080/",
          "height": 34
        }
      },
      "source": [
        "!ls"
      ],
      "execution_count": 0,
      "outputs": [
        {
          "output_type": "stream",
          "text": [
            "data  gtsrb-german-traffic-sign.zip  sample_data\n"
          ],
          "name": "stdout"
        }
      ]
    },
    {
      "cell_type": "code",
      "metadata": {
        "id": "DEYmtey2tihK",
        "colab_type": "code",
        "colab": {}
      },
      "source": [
        "!unzip -q gtsrb-german-traffic-sign"
      ],
      "execution_count": 0,
      "outputs": []
    },
    {
      "cell_type": "code",
      "metadata": {
        "id": "nQQknj_Ztl3L",
        "colab_type": "code",
        "outputId": "58501dd2-63a8-4fc1-d78a-14eefb001f4d",
        "colab": {
          "base_uri": "https://localhost:8080/",
          "height": 50
        }
      },
      "source": [
        "!ls"
      ],
      "execution_count": 0,
      "outputs": [
        {
          "output_type": "stream",
          "text": [
            "data\t\t\t       meta  Meta.csv\t  test\tTest.csv  Train\n",
            "gtsrb-german-traffic-sign.zip  Meta  sample_data  Test\ttrain\t  Train.csv\n"
          ],
          "name": "stdout"
        }
      ]
    },
    {
      "cell_type": "code",
      "metadata": {
        "id": "VTfH2MHstqb_",
        "colab_type": "code",
        "outputId": "a3dac4fb-ac11-46ba-8755-9d4045c47aea",
        "colab": {
          "base_uri": "https://localhost:8080/",
          "height": 739
        }
      },
      "source": [
        "# Reading the input images and putting them into a numpy array\n",
        "data=[]\n",
        "labels=[]\n",
        "\n",
        "height = 30\n",
        "width = 30\n",
        "channels = 3\n",
        "classes = 43\n",
        "n_inputs = height * width*channels\n",
        "\n",
        "for i in range(classes) :\n",
        "    path = \"/content/Train/{0}/\".format(i)\n",
        "    print(path)\n",
        "    Class=os.listdir(path)\n",
        "    for a in Class:\n",
        "        try:\n",
        "            image=cv2.imread(path+a)\n",
        "            image_from_array = Image.fromarray(image, 'RGB')\n",
        "            size_image = image_from_array.resize((height, width))\n",
        "            data.append(np.array(size_image))\n",
        "            labels.append(i)\n",
        "        except AttributeError:\n",
        "            print(\" \")\n",
        "                  \n",
        "Cells=np.array(data)\n",
        "labels=np.array(labels)\n",
        "\n",
        "#Randomize the order of the input images\n",
        "s=np.arange(Cells.shape[0])\n",
        "np.random.seed(43)\n",
        "np.random.shuffle(s)\n",
        "Cells=Cells[s]\n",
        "labels=labels[s]"
      ],
      "execution_count": 0,
      "outputs": [
        {
          "output_type": "stream",
          "text": [
            "/content/Train/0/\n",
            "/content/Train/1/\n",
            "/content/Train/2/\n",
            "/content/Train/3/\n",
            "/content/Train/4/\n",
            "/content/Train/5/\n",
            "/content/Train/6/\n",
            "/content/Train/7/\n",
            "/content/Train/8/\n",
            "/content/Train/9/\n",
            "/content/Train/10/\n",
            "/content/Train/11/\n",
            "/content/Train/12/\n",
            "/content/Train/13/\n",
            "/content/Train/14/\n",
            "/content/Train/15/\n",
            "/content/Train/16/\n",
            "/content/Train/17/\n",
            "/content/Train/18/\n",
            "/content/Train/19/\n",
            "/content/Train/20/\n",
            "/content/Train/21/\n",
            "/content/Train/22/\n",
            "/content/Train/23/\n",
            "/content/Train/24/\n",
            "/content/Train/25/\n",
            "/content/Train/26/\n",
            "/content/Train/27/\n",
            "/content/Train/28/\n",
            "/content/Train/29/\n",
            "/content/Train/30/\n",
            "/content/Train/31/\n",
            "/content/Train/32/\n",
            "/content/Train/33/\n",
            "/content/Train/34/\n",
            "/content/Train/35/\n",
            "/content/Train/36/\n",
            "/content/Train/37/\n",
            "/content/Train/38/\n",
            "/content/Train/39/\n",
            "/content/Train/40/\n",
            "/content/Train/41/\n",
            "/content/Train/42/\n"
          ],
          "name": "stdout"
        }
      ]
    },
    {
      "cell_type": "code",
      "metadata": {
        "id": "Q5xWQzGkt3Kb",
        "colab_type": "code",
        "outputId": "e60ee951-91ca-44b8-c585-b8214e271ae2",
        "colab": {
          "base_uri": "https://localhost:8080/",
          "height": 34
        }
      },
      "source": [
        "#Spliting the images into train and validation sets\n",
        "(X_train,X_val)=Cells[(int)(0.2*len(labels)):],Cells[:(int)(0.2*len(labels))]\n",
        "X_train = X_train.astype('float32')/255 \n",
        "X_val = X_val.astype('float32')/255\n",
        "(y_train,y_val)=labels[(int)(0.2*len(labels)):],labels[:(int)(0.2*len(labels))]\n",
        "\n",
        "#Using one hote encoding for the train and validation labels\n",
        "from keras.utils import to_categorical\n",
        "y_train = to_categorical(y_train, 43)\n",
        "y_val = to_categorical(y_val, 43)"
      ],
      "execution_count": 0,
      "outputs": [
        {
          "output_type": "stream",
          "text": [
            "Using TensorFlow backend.\n"
          ],
          "name": "stderr"
        }
      ]
    },
    {
      "cell_type": "code",
      "metadata": {
        "id": "9DfRep5LuL6-",
        "colab_type": "code",
        "colab": {}
      },
      "source": [
        "#Definition of the DNN model\n",
        "\n",
        "from keras.models import Sequential\n",
        "from keras.layers import Conv2D, MaxPool2D, Dense, Flatten, Dropout\n",
        "\n",
        "model = Sequential()\n",
        "model.add(Conv2D(filters=32, kernel_size=(5,5), activation='relu', input_shape=X_train.shape[1:]))\n",
        "model.add(Conv2D(filters=64, kernel_size=(3, 3), activation='relu'))\n",
        "model.add(MaxPool2D(pool_size=(2, 2)))\n",
        "model.add(Dropout(rate=0.25))\n",
        "model.add(Conv2D(filters=64, kernel_size=(3, 3), activation='relu'))\n",
        "model.add(MaxPool2D(pool_size=(2, 2)))\n",
        "model.add(Dropout(rate=0.25))\n",
        "model.add(Flatten())\n",
        "model.add(Dense(256, activation='relu'))\n",
        "model.add(Dropout(rate=0.5))\n",
        "model.add(Dense(43, activation='softmax'))\n",
        "\n",
        "#Compilation of the model\n",
        "model.compile(\n",
        "    loss='categorical_crossentropy', \n",
        "    optimizer='adam', \n",
        "    metrics=['accuracy']\n",
        ")\n"
      ],
      "execution_count": 0,
      "outputs": []
    },
    {
      "cell_type": "code",
      "metadata": {
        "id": "qJv9EaX9uVml",
        "colab_type": "code",
        "colab": {}
      },
      "source": [
        "#using ten epochs for the training and saving the accuracy for each epoch\n",
        "epochs = 20\n",
        "history = model.fit(X_train, y_train, batch_size=32, epochs=epochs,\n",
        "validation_data=(X_val, y_val))\n",
        "\n"
      ],
      "execution_count": 0,
      "outputs": []
    },
    {
      "cell_type": "code",
      "metadata": {
        "id": "QcWBhnQ-ua8_",
        "colab_type": "code",
        "outputId": "48a0aa9f-17bf-4a2b-e908-b7673b16b25b",
        "colab": {
          "base_uri": "https://localhost:8080/",
          "height": 312
        }
      },
      "source": [
        "#Display of the accuracy and the loss values\n",
        "import matplotlib.pyplot as plt\n",
        "\n",
        "plt.figure(1)\n",
        "plt.plot(history.history['loss'], label='training loss')\n",
        "plt.plot(history.history['val_loss'], label='val loss')\n",
        "plt.title('Loss')\n",
        "plt.xlabel('epochs')\n",
        "plt.ylabel('loss')\n",
        "plt.legend()"
      ],
      "execution_count": 0,
      "outputs": [
        {
          "output_type": "execute_result",
          "data": {
            "text/plain": [
              "<matplotlib.legend.Legend at 0x7f9963931668>"
            ]
          },
          "metadata": {
            "tags": []
          },
          "execution_count": 17
        },
        {
          "output_type": "display_data",
          "data": {
            "image/png": "[encoded data removed]",
            "text/plain": [
              "<Figure size 432x288 with 1 Axes>"
            ]
          },
          "metadata": {
            "tags": [],
            "needs_background": "light"
          }
        }
      ]
    },
    {
      "cell_type": "code",
      "metadata": {
        "id": "zY8mw9Xf3UE2",
        "colab_type": "code",
        "colab": {}
      },
      "source": [
        "#Predicting with the test data\n",
        "y_test=pd.read_csv(\"/content/Test.csv\")\n",
        "labels=y_test['Path']\n",
        "y_test=y_test['ClassId'].values\n",
        "\n",
        "data=[]\n",
        "\n",
        "for f in labels:\n",
        "    image=cv2.imread('/content/Test/'+f.replace('Test/', ''))\n",
        "    image_from_array = Image.fromarray(image, 'RGB')\n",
        "    size_image = image_from_array.resize((height, width))\n",
        "    data.append(np.array(size_image))\n",
        "\n",
        "X_test=np.array(data)\n",
        "X_test = X_test.astype('float32')/255 \n",
        "pred = model.predict_classes(X_test)"
      ],
      "execution_count": 0,
      "outputs": []
    },
    {
      "cell_type": "code",
      "metadata": {
        "id": "iPQXFaOA3om7",
        "colab_type": "code",
        "outputId": "ccb68476-6ae6-4a84-bb84-e97359fd208d",
        "colab": {
          "base_uri": "https://localhost:8080/",
          "height": 34
        }
      },
      "source": [
        "from sklearn.metrics import accuracy_score\n",
        "accuracy_score(y_test, pred)"
      ],
      "execution_count": 0,
      "outputs": [
        {
          "output_type": "execute_result",
          "data": {
            "text/plain": [
              "0.9729216152019002"
            ]
          },
          "metadata": {
            "tags": []
          },
          "execution_count": 20
        }
      ]
    },
    {
      "cell_type": "code",
      "metadata": {
        "id": "52hseV1f5Vwh",
        "colab_type": "code",
        "colab": {}
      },
      "source": [
        ""
      ],
      "execution_count": 0,
      "outputs": []
    }
  ]
}